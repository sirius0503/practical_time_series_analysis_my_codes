{
 "cells": [
  {
   "cell_type": "code",
   "execution_count": 1,
   "metadata": {},
   "outputs": [
    {
     "name": "stderr",
     "output_type": "stream",
     "text": [
      "/home/aspiring1/anaconda3/lib/python3.6/site-packages/statsmodels/compat/pandas.py:56: FutureWarning: The pandas.core.datetools module is deprecated and will be removed in a future version. Please use the pandas.tseries module instead.\n",
      "  from pandas.core import datetools\n"
     ]
    }
   ],
   "source": [
    "import numpy as np\n",
    "import pandas as pd\n",
    "%matplotlib inline\n",
    "import matplotlib.pyplot as plt\n",
    "from pandas.plotting import autocorrelation_plot\n",
    "import seaborn as sns\n",
    "from statsmodels.tsa import stattools"
   ]
  },
  {
   "cell_type": "code",
   "execution_count": 2,
   "metadata": {},
   "outputs": [
    {
     "name": "stdout",
     "output_type": "stream",
     "text": [
      "Chapter_1\t\t\t WDIFootNote.csv\r\n",
      "Chapter_2\t\t\t WDISeries-Time.csv\r\n",
      "DJIA_Jan2016_Dec2016.xlsx\t WDISeries.csv\r\n",
      "Monthly_CO2_Concentrations.xlsx  WDI_csv.zip\r\n",
      "WDICountry-Series.csv\t\t chemical-concentration-readings.csv\r\n",
      "WDICountry.csv\t\t\t inflation-consumer-prices-annual.xlsx\r\n",
      "WDIData.csv\t\t\t mean-daily-temperature-fisher-river.csv\r\n"
     ]
    }
   ],
   "source": [
    "!ls .."
   ]
  },
  {
   "cell_type": "code",
   "execution_count": 3,
   "metadata": {
    "collapsed": true
   },
   "outputs": [],
   "source": [
    "temp_mean = pd.read_csv('../mean-daily-temperature-fisher-river.csv')"
   ]
  },
  {
   "cell_type": "code",
   "execution_count": 4,
   "metadata": {},
   "outputs": [],
   "source": [
    "temp_mean['Month_Year'] = temp_mean['Date'].apply(lambda m: pd.to_datetime(m, format = '%Y-%m-%d').strftime('%Y-%m'))"
   ]
  },
  {
   "cell_type": "code",
   "execution_count": 5,
   "metadata": {},
   "outputs": [
    {
     "data": {
      "text/html": [
       "<div>\n",
       "<style>\n",
       "    .dataframe thead tr:only-child th {\n",
       "        text-align: right;\n",
       "    }\n",
       "\n",
       "    .dataframe thead th {\n",
       "        text-align: left;\n",
       "    }\n",
       "\n",
       "    .dataframe tbody tr th {\n",
       "        vertical-align: top;\n",
       "    }\n",
       "</style>\n",
       "<table border=\"1\" class=\"dataframe\">\n",
       "  <thead>\n",
       "    <tr style=\"text-align: right;\">\n",
       "      <th></th>\n",
       "      <th>Date</th>\n",
       "      <th>Mean temparature</th>\n",
       "      <th>Month_Year</th>\n",
       "    </tr>\n",
       "  </thead>\n",
       "  <tbody>\n",
       "    <tr>\n",
       "      <th>0</th>\n",
       "      <td>1988-01-01</td>\n",
       "      <td>-23.00</td>\n",
       "      <td>1988-01</td>\n",
       "    </tr>\n",
       "    <tr>\n",
       "      <th>1</th>\n",
       "      <td>1988-01-02</td>\n",
       "      <td>-20.50</td>\n",
       "      <td>1988-01</td>\n",
       "    </tr>\n",
       "    <tr>\n",
       "      <th>2</th>\n",
       "      <td>1988-01-03</td>\n",
       "      <td>-22.00</td>\n",
       "      <td>1988-01</td>\n",
       "    </tr>\n",
       "    <tr>\n",
       "      <th>3</th>\n",
       "      <td>1988-01-04</td>\n",
       "      <td>-30.50</td>\n",
       "      <td>1988-01</td>\n",
       "    </tr>\n",
       "    <tr>\n",
       "      <th>4</th>\n",
       "      <td>1988-01-05</td>\n",
       "      <td>-31.00</td>\n",
       "      <td>1988-01</td>\n",
       "    </tr>\n",
       "    <tr>\n",
       "      <th>5</th>\n",
       "      <td>1988-01-06</td>\n",
       "      <td>-27.50</td>\n",
       "      <td>1988-01</td>\n",
       "    </tr>\n",
       "    <tr>\n",
       "      <th>6</th>\n",
       "      <td>1988-01-07</td>\n",
       "      <td>-26.25</td>\n",
       "      <td>1988-01</td>\n",
       "    </tr>\n",
       "    <tr>\n",
       "      <th>7</th>\n",
       "      <td>1988-01-08</td>\n",
       "      <td>-26.50</td>\n",
       "      <td>1988-01</td>\n",
       "    </tr>\n",
       "    <tr>\n",
       "      <th>8</th>\n",
       "      <td>1988-01-09</td>\n",
       "      <td>-23.00</td>\n",
       "      <td>1988-01</td>\n",
       "    </tr>\n",
       "    <tr>\n",
       "      <th>9</th>\n",
       "      <td>1988-01-10</td>\n",
       "      <td>-23.50</td>\n",
       "      <td>1988-01</td>\n",
       "    </tr>\n",
       "  </tbody>\n",
       "</table>\n",
       "</div>"
      ],
      "text/plain": [
       "         Date  Mean temparature Month_Year\n",
       "0  1988-01-01            -23.00    1988-01\n",
       "1  1988-01-02            -20.50    1988-01\n",
       "2  1988-01-03            -22.00    1988-01\n",
       "3  1988-01-04            -30.50    1988-01\n",
       "4  1988-01-05            -31.00    1988-01\n",
       "5  1988-01-06            -27.50    1988-01\n",
       "6  1988-01-07            -26.25    1988-01\n",
       "7  1988-01-08            -26.50    1988-01\n",
       "8  1988-01-09            -23.00    1988-01\n",
       "9  1988-01-10            -23.50    1988-01"
      ]
     },
     "execution_count": 5,
     "metadata": {},
     "output_type": "execute_result"
    }
   ],
   "source": [
    "temp_mean.head(10)"
   ]
  },
  {
   "cell_type": "code",
   "execution_count": 6,
   "metadata": {},
   "outputs": [
    {
     "data": {
      "text/html": [
       "<div>\n",
       "<style>\n",
       "    .dataframe thead tr:only-child th {\n",
       "        text-align: right;\n",
       "    }\n",
       "\n",
       "    .dataframe thead th {\n",
       "        text-align: left;\n",
       "    }\n",
       "\n",
       "    .dataframe tbody tr th {\n",
       "        vertical-align: top;\n",
       "    }\n",
       "</style>\n",
       "<table border=\"1\" class=\"dataframe\">\n",
       "  <thead>\n",
       "    <tr style=\"text-align: right;\">\n",
       "      <th></th>\n",
       "      <th>Date</th>\n",
       "      <th>Mean temparature</th>\n",
       "      <th>Month_Year</th>\n",
       "    </tr>\n",
       "  </thead>\n",
       "  <tbody>\n",
       "    <tr>\n",
       "      <th>0</th>\n",
       "      <td>1988-01-01</td>\n",
       "      <td>-23.0</td>\n",
       "      <td>1988-01</td>\n",
       "    </tr>\n",
       "    <tr>\n",
       "      <th>1</th>\n",
       "      <td>1988-01-02</td>\n",
       "      <td>-20.5</td>\n",
       "      <td>1988-01</td>\n",
       "    </tr>\n",
       "    <tr>\n",
       "      <th>2</th>\n",
       "      <td>1988-01-03</td>\n",
       "      <td>-22.0</td>\n",
       "      <td>1988-01</td>\n",
       "    </tr>\n",
       "    <tr>\n",
       "      <th>3</th>\n",
       "      <td>1988-01-04</td>\n",
       "      <td>-30.5</td>\n",
       "      <td>1988-01</td>\n",
       "    </tr>\n",
       "    <tr>\n",
       "      <th>4</th>\n",
       "      <td>1988-01-05</td>\n",
       "      <td>-31.0</td>\n",
       "      <td>1988-01</td>\n",
       "    </tr>\n",
       "  </tbody>\n",
       "</table>\n",
       "</div>"
      ],
      "text/plain": [
       "         Date  Mean temparature Month_Year\n",
       "0  1988-01-01             -23.0    1988-01\n",
       "1  1988-01-02             -20.5    1988-01\n",
       "2  1988-01-03             -22.0    1988-01\n",
       "3  1988-01-04             -30.5    1988-01\n",
       "4  1988-01-05             -31.0    1988-01"
      ]
     },
     "execution_count": 6,
     "metadata": {},
     "output_type": "execute_result"
    }
   ],
   "source": [
    "temp_mean.head()"
   ]
  },
  {
   "cell_type": "code",
   "execution_count": 7,
   "metadata": {},
   "outputs": [],
   "source": [
    "monthly_stats = temp_mean.groupby(by='Month_Year')['Mean temparature'].agg([np.mean, np.median, np.std])"
   ]
  },
  {
   "cell_type": "code",
   "execution_count": 8,
   "metadata": {},
   "outputs": [
    {
     "data": {
      "text/html": [
       "<div>\n",
       "<style>\n",
       "    .dataframe thead tr:only-child th {\n",
       "        text-align: right;\n",
       "    }\n",
       "\n",
       "    .dataframe thead th {\n",
       "        text-align: left;\n",
       "    }\n",
       "\n",
       "    .dataframe tbody tr th {\n",
       "        vertical-align: top;\n",
       "    }\n",
       "</style>\n",
       "<table border=\"1\" class=\"dataframe\">\n",
       "  <thead>\n",
       "    <tr style=\"text-align: right;\">\n",
       "      <th></th>\n",
       "      <th>mean</th>\n",
       "      <th>median</th>\n",
       "      <th>std</th>\n",
       "    </tr>\n",
       "    <tr>\n",
       "      <th>Month_Year</th>\n",
       "      <th></th>\n",
       "      <th></th>\n",
       "      <th></th>\n",
       "    </tr>\n",
       "  </thead>\n",
       "  <tbody>\n",
       "    <tr>\n",
       "      <th>1988-01</th>\n",
       "      <td>-22.137097</td>\n",
       "      <td>-23.000</td>\n",
       "      <td>5.260640</td>\n",
       "    </tr>\n",
       "    <tr>\n",
       "      <th>1988-02</th>\n",
       "      <td>-19.025862</td>\n",
       "      <td>-19.500</td>\n",
       "      <td>8.598522</td>\n",
       "    </tr>\n",
       "    <tr>\n",
       "      <th>1988-03</th>\n",
       "      <td>-8.258065</td>\n",
       "      <td>-9.250</td>\n",
       "      <td>5.341459</td>\n",
       "    </tr>\n",
       "    <tr>\n",
       "      <th>1988-04</th>\n",
       "      <td>2.641667</td>\n",
       "      <td>1.875</td>\n",
       "      <td>5.057720</td>\n",
       "    </tr>\n",
       "    <tr>\n",
       "      <th>1988-05</th>\n",
       "      <td>11.290323</td>\n",
       "      <td>11.000</td>\n",
       "      <td>6.254364</td>\n",
       "    </tr>\n",
       "    <tr>\n",
       "      <th>1988-06</th>\n",
       "      <td>19.291667</td>\n",
       "      <td>19.000</td>\n",
       "      <td>3.909032</td>\n",
       "    </tr>\n",
       "    <tr>\n",
       "      <th>1988-07</th>\n",
       "      <td>19.048387</td>\n",
       "      <td>18.500</td>\n",
       "      <td>3.073692</td>\n",
       "    </tr>\n",
       "    <tr>\n",
       "      <th>1988-08</th>\n",
       "      <td>17.379032</td>\n",
       "      <td>18.000</td>\n",
       "      <td>3.183205</td>\n",
       "    </tr>\n",
       "    <tr>\n",
       "      <th>1988-09</th>\n",
       "      <td>10.675000</td>\n",
       "      <td>10.750</td>\n",
       "      <td>3.880294</td>\n",
       "    </tr>\n",
       "    <tr>\n",
       "      <th>1988-10</th>\n",
       "      <td>2.467742</td>\n",
       "      <td>3.000</td>\n",
       "      <td>6.697245</td>\n",
       "    </tr>\n",
       "  </tbody>\n",
       "</table>\n",
       "</div>"
      ],
      "text/plain": [
       "                 mean  median       std\n",
       "Month_Year                             \n",
       "1988-01    -22.137097 -23.000  5.260640\n",
       "1988-02    -19.025862 -19.500  8.598522\n",
       "1988-03     -8.258065  -9.250  5.341459\n",
       "1988-04      2.641667   1.875  5.057720\n",
       "1988-05     11.290323  11.000  6.254364\n",
       "1988-06     19.291667  19.000  3.909032\n",
       "1988-07     19.048387  18.500  3.073692\n",
       "1988-08     17.379032  18.000  3.183205\n",
       "1988-09     10.675000  10.750  3.880294\n",
       "1988-10      2.467742   3.000  6.697245"
      ]
     },
     "execution_count": 8,
     "metadata": {},
     "output_type": "execute_result"
    }
   ],
   "source": [
    "monthly_stats.head(10)"
   ]
  },
  {
   "cell_type": "code",
   "execution_count": 9,
   "metadata": {},
   "outputs": [],
   "source": [
    "monthly_stats['Month'] = monthly_stats.index.map(lambda d: pd.to_datetime(d, format = '%Y-%m').strftime('%m'))\n",
    "monthly_stats['Year'] = monthly_stats.index.map(lambda d: pd.to_datetime(d, format = '%Y-%m').strftime('%Y'))"
   ]
  },
  {
   "cell_type": "code",
   "execution_count": 10,
   "metadata": {},
   "outputs": [
    {
     "data": {
      "text/html": [
       "<div>\n",
       "<style>\n",
       "    .dataframe thead tr:only-child th {\n",
       "        text-align: right;\n",
       "    }\n",
       "\n",
       "    .dataframe thead th {\n",
       "        text-align: left;\n",
       "    }\n",
       "\n",
       "    .dataframe tbody tr th {\n",
       "        vertical-align: top;\n",
       "    }\n",
       "</style>\n",
       "<table border=\"1\" class=\"dataframe\">\n",
       "  <thead>\n",
       "    <tr style=\"text-align: right;\">\n",
       "      <th></th>\n",
       "      <th>mean</th>\n",
       "      <th>median</th>\n",
       "      <th>std</th>\n",
       "      <th>Month</th>\n",
       "      <th>Year</th>\n",
       "    </tr>\n",
       "    <tr>\n",
       "      <th>Month_Year</th>\n",
       "      <th></th>\n",
       "      <th></th>\n",
       "      <th></th>\n",
       "      <th></th>\n",
       "      <th></th>\n",
       "    </tr>\n",
       "  </thead>\n",
       "  <tbody>\n",
       "    <tr>\n",
       "      <th>1988-01</th>\n",
       "      <td>-22.137097</td>\n",
       "      <td>-23.000</td>\n",
       "      <td>5.260640</td>\n",
       "      <td>01</td>\n",
       "      <td>1988</td>\n",
       "    </tr>\n",
       "    <tr>\n",
       "      <th>1988-02</th>\n",
       "      <td>-19.025862</td>\n",
       "      <td>-19.500</td>\n",
       "      <td>8.598522</td>\n",
       "      <td>02</td>\n",
       "      <td>1988</td>\n",
       "    </tr>\n",
       "    <tr>\n",
       "      <th>1988-03</th>\n",
       "      <td>-8.258065</td>\n",
       "      <td>-9.250</td>\n",
       "      <td>5.341459</td>\n",
       "      <td>03</td>\n",
       "      <td>1988</td>\n",
       "    </tr>\n",
       "    <tr>\n",
       "      <th>1988-04</th>\n",
       "      <td>2.641667</td>\n",
       "      <td>1.875</td>\n",
       "      <td>5.057720</td>\n",
       "      <td>04</td>\n",
       "      <td>1988</td>\n",
       "    </tr>\n",
       "    <tr>\n",
       "      <th>1988-05</th>\n",
       "      <td>11.290323</td>\n",
       "      <td>11.000</td>\n",
       "      <td>6.254364</td>\n",
       "      <td>05</td>\n",
       "      <td>1988</td>\n",
       "    </tr>\n",
       "    <tr>\n",
       "      <th>1988-06</th>\n",
       "      <td>19.291667</td>\n",
       "      <td>19.000</td>\n",
       "      <td>3.909032</td>\n",
       "      <td>06</td>\n",
       "      <td>1988</td>\n",
       "    </tr>\n",
       "    <tr>\n",
       "      <th>1988-07</th>\n",
       "      <td>19.048387</td>\n",
       "      <td>18.500</td>\n",
       "      <td>3.073692</td>\n",
       "      <td>07</td>\n",
       "      <td>1988</td>\n",
       "    </tr>\n",
       "    <tr>\n",
       "      <th>1988-08</th>\n",
       "      <td>17.379032</td>\n",
       "      <td>18.000</td>\n",
       "      <td>3.183205</td>\n",
       "      <td>08</td>\n",
       "      <td>1988</td>\n",
       "    </tr>\n",
       "    <tr>\n",
       "      <th>1988-09</th>\n",
       "      <td>10.675000</td>\n",
       "      <td>10.750</td>\n",
       "      <td>3.880294</td>\n",
       "      <td>09</td>\n",
       "      <td>1988</td>\n",
       "    </tr>\n",
       "    <tr>\n",
       "      <th>1988-10</th>\n",
       "      <td>2.467742</td>\n",
       "      <td>3.000</td>\n",
       "      <td>6.697245</td>\n",
       "      <td>10</td>\n",
       "      <td>1988</td>\n",
       "    </tr>\n",
       "  </tbody>\n",
       "</table>\n",
       "</div>"
      ],
      "text/plain": [
       "                 mean  median       std Month  Year\n",
       "Month_Year                                         \n",
       "1988-01    -22.137097 -23.000  5.260640    01  1988\n",
       "1988-02    -19.025862 -19.500  8.598522    02  1988\n",
       "1988-03     -8.258065  -9.250  5.341459    03  1988\n",
       "1988-04      2.641667   1.875  5.057720    04  1988\n",
       "1988-05     11.290323  11.000  6.254364    05  1988\n",
       "1988-06     19.291667  19.000  3.909032    06  1988\n",
       "1988-07     19.048387  18.500  3.073692    07  1988\n",
       "1988-08     17.379032  18.000  3.183205    08  1988\n",
       "1988-09     10.675000  10.750  3.880294    09  1988\n",
       "1988-10      2.467742   3.000  6.697245    10  1988"
      ]
     },
     "execution_count": 10,
     "metadata": {},
     "output_type": "execute_result"
    }
   ],
   "source": [
    "monthly_stats.head(10)"
   ]
  },
  {
   "cell_type": "code",
   "execution_count": 11,
   "metadata": {
    "collapsed": true
   },
   "outputs": [],
   "source": [
    "monthly_stats.sort_values(by=['Year', 'Month'], inplace = True)"
   ]
  },
  {
   "cell_type": "code",
   "execution_count": 12,
   "metadata": {},
   "outputs": [
    {
     "data": {
      "text/html": [
       "<div>\n",
       "<style>\n",
       "    .dataframe thead tr:only-child th {\n",
       "        text-align: right;\n",
       "    }\n",
       "\n",
       "    .dataframe thead th {\n",
       "        text-align: left;\n",
       "    }\n",
       "\n",
       "    .dataframe tbody tr th {\n",
       "        vertical-align: top;\n",
       "    }\n",
       "</style>\n",
       "<table border=\"1\" class=\"dataframe\">\n",
       "  <thead>\n",
       "    <tr style=\"text-align: right;\">\n",
       "      <th></th>\n",
       "      <th>mean</th>\n",
       "      <th>median</th>\n",
       "      <th>std</th>\n",
       "      <th>Month</th>\n",
       "      <th>Year</th>\n",
       "    </tr>\n",
       "    <tr>\n",
       "      <th>Month_Year</th>\n",
       "      <th></th>\n",
       "      <th></th>\n",
       "      <th></th>\n",
       "      <th></th>\n",
       "      <th></th>\n",
       "    </tr>\n",
       "  </thead>\n",
       "  <tbody>\n",
       "    <tr>\n",
       "      <th>1988-01</th>\n",
       "      <td>-22.137097</td>\n",
       "      <td>-23.000</td>\n",
       "      <td>5.260640</td>\n",
       "      <td>01</td>\n",
       "      <td>1988</td>\n",
       "    </tr>\n",
       "    <tr>\n",
       "      <th>1988-02</th>\n",
       "      <td>-19.025862</td>\n",
       "      <td>-19.500</td>\n",
       "      <td>8.598522</td>\n",
       "      <td>02</td>\n",
       "      <td>1988</td>\n",
       "    </tr>\n",
       "    <tr>\n",
       "      <th>1988-03</th>\n",
       "      <td>-8.258065</td>\n",
       "      <td>-9.250</td>\n",
       "      <td>5.341459</td>\n",
       "      <td>03</td>\n",
       "      <td>1988</td>\n",
       "    </tr>\n",
       "    <tr>\n",
       "      <th>1988-04</th>\n",
       "      <td>2.641667</td>\n",
       "      <td>1.875</td>\n",
       "      <td>5.057720</td>\n",
       "      <td>04</td>\n",
       "      <td>1988</td>\n",
       "    </tr>\n",
       "    <tr>\n",
       "      <th>1988-05</th>\n",
       "      <td>11.290323</td>\n",
       "      <td>11.000</td>\n",
       "      <td>6.254364</td>\n",
       "      <td>05</td>\n",
       "      <td>1988</td>\n",
       "    </tr>\n",
       "    <tr>\n",
       "      <th>1988-06</th>\n",
       "      <td>19.291667</td>\n",
       "      <td>19.000</td>\n",
       "      <td>3.909032</td>\n",
       "      <td>06</td>\n",
       "      <td>1988</td>\n",
       "    </tr>\n",
       "    <tr>\n",
       "      <th>1988-07</th>\n",
       "      <td>19.048387</td>\n",
       "      <td>18.500</td>\n",
       "      <td>3.073692</td>\n",
       "      <td>07</td>\n",
       "      <td>1988</td>\n",
       "    </tr>\n",
       "    <tr>\n",
       "      <th>1988-08</th>\n",
       "      <td>17.379032</td>\n",
       "      <td>18.000</td>\n",
       "      <td>3.183205</td>\n",
       "      <td>08</td>\n",
       "      <td>1988</td>\n",
       "    </tr>\n",
       "    <tr>\n",
       "      <th>1988-09</th>\n",
       "      <td>10.675000</td>\n",
       "      <td>10.750</td>\n",
       "      <td>3.880294</td>\n",
       "      <td>09</td>\n",
       "      <td>1988</td>\n",
       "    </tr>\n",
       "    <tr>\n",
       "      <th>1988-10</th>\n",
       "      <td>2.467742</td>\n",
       "      <td>3.000</td>\n",
       "      <td>6.697245</td>\n",
       "      <td>10</td>\n",
       "      <td>1988</td>\n",
       "    </tr>\n",
       "  </tbody>\n",
       "</table>\n",
       "</div>"
      ],
      "text/plain": [
       "                 mean  median       std Month  Year\n",
       "Month_Year                                         \n",
       "1988-01    -22.137097 -23.000  5.260640    01  1988\n",
       "1988-02    -19.025862 -19.500  8.598522    02  1988\n",
       "1988-03     -8.258065  -9.250  5.341459    03  1988\n",
       "1988-04      2.641667   1.875  5.057720    04  1988\n",
       "1988-05     11.290323  11.000  6.254364    05  1988\n",
       "1988-06     19.291667  19.000  3.909032    06  1988\n",
       "1988-07     19.048387  18.500  3.073692    07  1988\n",
       "1988-08     17.379032  18.000  3.183205    08  1988\n",
       "1988-09     10.675000  10.750  3.880294    09  1988\n",
       "1988-10      2.467742   3.000  6.697245    10  1988"
      ]
     },
     "execution_count": 12,
     "metadata": {},
     "output_type": "execute_result"
    }
   ],
   "source": [
    "monthly_stats.head(10)"
   ]
  },
  {
   "cell_type": "code",
   "execution_count": 13,
   "metadata": {},
   "outputs": [
    {
     "data": {
      "text/plain": [
       "<matplotlib.text.Text at 0x7fcbd327bf28>"
      ]
     },
     "execution_count": 13,
     "metadata": {},
     "output_type": "execute_result"
    },
    {
     "data": {
      "image/png": "[encoded data removed]",
      "text/plain": [
       "<matplotlib.figure.Figure at 0x7fcbd32ce9e8>"
      ]
     },
     "metadata": {},
     "output_type": "display_data"
    }
   ],
   "source": [
    "fig = plt.figure(figsize = (5.5, 5.5))\n",
    "ax = fig.add_subplot(111)\n",
    "monthly_stats['mean'].plot(ax = ax, color='b')\n",
    "monthly_stats['std'].plot(ax = ax , color ='red')\n",
    "ax.set_title('Monthly temperature of Fisher river mean(blue) and std(red)')\n",
    "ax.set_xlabel('Time')\n",
    "ax.set_ylabel('Temperature')"
   ]
  },
  {
   "cell_type": "code",
   "execution_count": 14,
   "metadata": {},
   "outputs": [
    {
     "data": {
      "text/plain": [
       "<matplotlib.axes._subplots.AxesSubplot at 0x7fcbd32ce0b8>"
      ]
     },
     "execution_count": 14,
     "metadata": {},
     "output_type": "execute_result"
    },
    {
     "data": {
      "image/png": "[encoded data removed]",
      "text/plain": [
       "<matplotlib.figure.Figure at 0x7fcbd32ce208>"
      ]
     },
     "metadata": {},
     "output_type": "display_data"
    }
   ],
   "source": [
    "fig = plt.figure(figsize = (5.5, 5.5))\n",
    "ax = fig.add_subplot(111)\n",
    "autocorrelation_plot(monthly_stats['mean'], ax = ax)"
   ]
  },
  {
   "cell_type": "markdown",
   "metadata": {},
   "source": [
    "### Seasonal Differences"
   ]
  },
  {
   "cell_type": "code",
   "execution_count": 15,
   "metadata": {
    "collapsed": true
   },
   "outputs": [],
   "source": [
    "monthly_mean_temp = monthly_stats['mean']\n",
    "seasonal_df = monthly_mean_temp.diff(12)"
   ]
  },
  {
   "cell_type": "code",
   "execution_count": 16,
   "metadata": {},
   "outputs": [],
   "source": [
    "seasonal_df = seasonal_df.iloc[12:]"
   ]
  },
  {
   "cell_type": "code",
   "execution_count": 17,
   "metadata": {},
   "outputs": [
    {
     "data": {
      "text/plain": [
       "<matplotlib.axes._subplots.AxesSubplot at 0x7fcbcf93ab70>"
      ]
     },
     "execution_count": 17,
     "metadata": {},
     "output_type": "execute_result"
    },
    {
     "data": {
      "image/png": "[encoded data removed]",
      "text/plain": [
       "<matplotlib.figure.Figure at 0x7fcbcf93aa90>"
      ]
     },
     "metadata": {},
     "output_type": "display_data"
    }
   ],
   "source": [
    "fig = plt.figure(figsize = (5.5, 5.5))\n",
    "ax = fig.add_subplot(111)\n",
    "ax.set_title('Seasonal Differences')\n",
    "seasonal_df.plot(ax = ax)"
   ]
  },
  {
   "cell_type": "code",
   "execution_count": 18,
   "metadata": {},
   "outputs": [
    {
     "data": {
      "text/plain": [
       "<matplotlib.axes._subplots.AxesSubplot at 0x7fcbcf844400>"
      ]
     },
     "execution_count": 18,
     "metadata": {},
     "output_type": "execute_result"
    },
    {
     "data": {
      "image/png": "[encoded data removed]",
      "text/plain": [
       "<matplotlib.figure.Figure at 0x7fcbcf844320>"
      ]
     },
     "metadata": {},
     "output_type": "display_data"
    }
   ],
   "source": [
    "fig = plt.figure(figsize = (5.5, 5.5))\n",
    "ax = fig.add_subplot(1,1,1)\n",
    "ax.set_title('Autocorrelation of first differences of seasonal monthly mean temperatures')\n",
    "autocorrelation_plot(seasonal_df, ax = ax)"
   ]
  },
  {
   "cell_type": "code",
   "execution_count": 19,
   "metadata": {},
   "outputs": [
    {
     "name": "stdout",
     "output_type": "stream",
     "text": [
      "Null hypothesis is rejected for lags: (array([0, 1, 2, 3, 4, 5, 6, 7, 8, 9]),)\n"
     ]
    }
   ],
   "source": [
    "_, _, _, pval_monthly_mean = stattools.acf(monthly_mean_temp, unbiased = True, nlags = 10, qstat = True, alpha = 0.5)\n",
    "print('Null hypothesis is rejected for lags:', np.where(pval_monthly_mean <= 0.05))"
   ]
  },
  {
   "cell_type": "markdown",
   "metadata": {},
   "source": [
    "### Ljung Box test"
   ]
  },
  {
   "cell_type": "code",
   "execution_count": 20,
   "metadata": {},
   "outputs": [
    {
     "name": "stdout",
     "output_type": "stream",
     "text": [
      "Null hypothesis is rejected for lags: (array([], dtype=int64),)\n"
     ]
    }
   ],
   "source": [
    "_, _, _, pval_seasonal_diff = stattools.acf(seasonal_df, unbiased = True, nlags = 10, qstat = True, alpha = 0.05)\n",
    "print('Null hypothesis is rejected for lags:', np.where(pval_seasonal_diff <= 0.05))"
   ]
  },
  {
   "cell_type": "code",
   "execution_count": null,
   "metadata": {},
   "outputs": [],
   "source": []
  },
  {
   "cell_type": "code",
   "execution_count": null,
   "metadata": {},
   "outputs": [],
   "source": []
  },
  {
   "cell_type": "code",
   "execution_count": null,
   "metadata": {},
   "outputs": [],
   "source": []
  },
  {
   "cell_type": "code",
   "execution_count": null,
   "metadata": {
    "collapsed": true
   },
   "outputs": [],
   "source": []
  }
 ],
 "metadata": {
  "kernelspec": {
   "display_name": "Python 3",
   "language": "python",
   "name": "python3"
  },
  "language_info": {
   "codemirror_mode": {
    "name": "ipython",
    "version": 3
   },
   "file_extension": ".py",
   "mimetype": "text/x-python",
   "name": "python",
   "nbconvert_exporter": "python",
   "pygments_lexer": "ipython3",
   "version": "3.6.6"
  }
 },
 "nbformat": 4,
 "nbformat_minor": 2
}
