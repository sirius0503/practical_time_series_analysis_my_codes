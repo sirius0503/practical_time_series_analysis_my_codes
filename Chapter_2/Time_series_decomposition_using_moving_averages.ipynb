{
 "cells": [
  {
   "cell_type": "code",
   "execution_count": 1,
   "metadata": {},
   "outputs": [
    {
     "name": "stderr",
     "output_type": "stream",
     "text": [
      "/home/aspiring1/anaconda3/lib/python3.6/site-packages/statsmodels/compat/pandas.py:56: FutureWarning: The pandas.core.datetools module is deprecated and will be removed in a future version. Please use the pandas.tseries module instead.\n",
      "  from pandas.core import datetools\n"
     ]
    }
   ],
   "source": [
    "import numpy as np\n",
    "import pandas as pd\n",
    "from statsmodels.tsa import stattools\n",
    "%matplotlib inline\n",
    "import matplotlib.pyplot as plt"
   ]
  },
  {
   "cell_type": "code",
   "execution_count": 2,
   "metadata": {},
   "outputs": [
    {
     "data": {
      "text/html": [
       "<div>\n",
       "<style>\n",
       "    .dataframe thead tr:only-child th {\n",
       "        text-align: right;\n",
       "    }\n",
       "\n",
       "    .dataframe thead th {\n",
       "        text-align: left;\n",
       "    }\n",
       "\n",
       "    .dataframe tbody tr th {\n",
       "        vertical-align: top;\n",
       "    }\n",
       "</style>\n",
       "<table border=\"1\" class=\"dataframe\">\n",
       "  <thead>\n",
       "    <tr style=\"text-align: right;\">\n",
       "      <th></th>\n",
       "      <th>Month</th>\n",
       "      <th>U.S. airlines: monthly aircraft miles flown (Millions) 1963 -1970</th>\n",
       "    </tr>\n",
       "  </thead>\n",
       "  <tbody>\n",
       "    <tr>\n",
       "      <th>0</th>\n",
       "      <td>1963-01</td>\n",
       "      <td>6827.0</td>\n",
       "    </tr>\n",
       "    <tr>\n",
       "      <th>1</th>\n",
       "      <td>1963-02</td>\n",
       "      <td>6178.0</td>\n",
       "    </tr>\n",
       "    <tr>\n",
       "      <th>2</th>\n",
       "      <td>1963-03</td>\n",
       "      <td>7084.0</td>\n",
       "    </tr>\n",
       "    <tr>\n",
       "      <th>3</th>\n",
       "      <td>1963-04</td>\n",
       "      <td>8162.0</td>\n",
       "    </tr>\n",
       "    <tr>\n",
       "      <th>4</th>\n",
       "      <td>1963-05</td>\n",
       "      <td>8462.0</td>\n",
       "    </tr>\n",
       "  </tbody>\n",
       "</table>\n",
       "</div>"
      ],
      "text/plain": [
       "     Month  U.S. airlines: monthly aircraft miles flown (Millions) 1963 -1970\n",
       "0  1963-01                                             6827.0                \n",
       "1  1963-02                                             6178.0                \n",
       "2  1963-03                                             7084.0                \n",
       "3  1963-04                                             8162.0                \n",
       "4  1963-05                                             8462.0                "
      ]
     },
     "execution_count": 2,
     "metadata": {},
     "output_type": "execute_result"
    }
   ],
   "source": [
    "air_miles = pd.read_csv('../us-airlines-monthly-aircraft-miles-flown.csv')\n",
    "air_miles.head()"
   ]
  },
  {
   "cell_type": "code",
   "execution_count": 3,
   "metadata": {
    "collapsed": true
   },
   "outputs": [],
   "source": [
    "air_miles.index = air_miles['Month']"
   ]
  },
  {
   "cell_type": "code",
   "execution_count": 4,
   "metadata": {
    "collapsed": true
   },
   "outputs": [],
   "source": [
    "air_miles.rename(columns={'U.S. airlines: monthly aircraft miles flown (Millions) 1963 -1970': 'Miles Flown'}, inplace = True)"
   ]
  },
  {
   "cell_type": "code",
   "execution_count": 5,
   "metadata": {},
   "outputs": [
    {
     "data": {
      "text/html": [
       "<div>\n",
       "<style>\n",
       "    .dataframe thead tr:only-child th {\n",
       "        text-align: right;\n",
       "    }\n",
       "\n",
       "    .dataframe thead th {\n",
       "        text-align: left;\n",
       "    }\n",
       "\n",
       "    .dataframe tbody tr th {\n",
       "        vertical-align: top;\n",
       "    }\n",
       "</style>\n",
       "<table border=\"1\" class=\"dataframe\">\n",
       "  <thead>\n",
       "    <tr style=\"text-align: right;\">\n",
       "      <th></th>\n",
       "      <th>Month</th>\n",
       "      <th>Miles Flown</th>\n",
       "    </tr>\n",
       "    <tr>\n",
       "      <th>Month</th>\n",
       "      <th></th>\n",
       "      <th></th>\n",
       "    </tr>\n",
       "  </thead>\n",
       "  <tbody>\n",
       "    <tr>\n",
       "      <th>1963-01</th>\n",
       "      <td>1963-01</td>\n",
       "      <td>6827.0</td>\n",
       "    </tr>\n",
       "    <tr>\n",
       "      <th>1963-02</th>\n",
       "      <td>1963-02</td>\n",
       "      <td>6178.0</td>\n",
       "    </tr>\n",
       "    <tr>\n",
       "      <th>1963-03</th>\n",
       "      <td>1963-03</td>\n",
       "      <td>7084.0</td>\n",
       "    </tr>\n",
       "    <tr>\n",
       "      <th>1963-04</th>\n",
       "      <td>1963-04</td>\n",
       "      <td>8162.0</td>\n",
       "    </tr>\n",
       "    <tr>\n",
       "      <th>1963-05</th>\n",
       "      <td>1963-05</td>\n",
       "      <td>8462.0</td>\n",
       "    </tr>\n",
       "  </tbody>\n",
       "</table>\n",
       "</div>"
      ],
      "text/plain": [
       "           Month  Miles Flown\n",
       "Month                        \n",
       "1963-01  1963-01       6827.0\n",
       "1963-02  1963-02       6178.0\n",
       "1963-03  1963-03       7084.0\n",
       "1963-04  1963-04       8162.0\n",
       "1963-05  1963-05       8462.0"
      ]
     },
     "execution_count": 5,
     "metadata": {},
     "output_type": "execute_result"
    }
   ],
   "source": [
    "air_miles.head()"
   ]
  },
  {
   "cell_type": "code",
   "execution_count": 6,
   "metadata": {},
   "outputs": [
    {
     "name": "stdout",
     "output_type": "stream",
     "text": [
      "Shape of the dataframe:  (97, 2)\n"
     ]
    }
   ],
   "source": [
    "print('Shape of the dataframe: ', air_miles.shape)"
   ]
  },
  {
   "cell_type": "code",
   "execution_count": 7,
   "metadata": {},
   "outputs": [
    {
     "name": "stdout",
     "output_type": "stream",
     "text": [
      "Number of missing values found:  1\n"
     ]
    }
   ],
   "source": [
    "# Check for missing values and remove the rows.\n",
    "missing = (air_miles['Month'].isnull() | air_miles['Miles Flown'].isnull())\n",
    "print('Number of missing values found: ', missing.sum())\n",
    "air_miles = air_miles.loc[~missing, :]"
   ]
  },
  {
   "cell_type": "code",
   "execution_count": 8,
   "metadata": {
    "collapsed": true
   },
   "outputs": [],
   "source": [
    "MA12 = air_miles['Miles Flown'].rolling(window = 12).mean()\n",
    "trendcomp = MA12.rolling(window = 2).mean()"
   ]
  },
  {
   "cell_type": "code",
   "execution_count": 9,
   "metadata": {},
   "outputs": [],
   "source": [
    "residuals = air_miles['Miles Flown'] - trendcomp\n",
    "\n",
    "month = air_miles['Month'].apply(lambda d: d[-2:])\n",
    "monthwise_avg = residuals.groupby(by = month).agg(['mean']).dropna()\n",
    "#Number of years for which we have the data\n",
    "num_years = 1970 - 1963 + 1\n",
    "\n",
    "seasonalComp = np.array([monthwise_avg.as_matrix()] * num_years).reshape((12*num_years, ))"
   ]
  },
  {
   "cell_type": "code",
   "execution_count": 10,
   "metadata": {},
   "outputs": [],
   "source": [
    "# After deducting the trend and seasonal component we are left with irregular variations.\n",
    "irr_var = air_miles['Miles Flown'].dropna() - trendcomp - seasonalComp"
   ]
  },
  {
   "cell_type": "code",
   "execution_count": 11,
   "metadata": {},
   "outputs": [
    {
     "data": {
      "image/png": "[encoded data removed]",
      "text/plain": [
       "<matplotlib.figure.Figure at 0x7ff04d9c4978>"
      ]
     },
     "metadata": {},
     "output_type": "display_data"
    }
   ],
   "source": [
    "# Plot the original time series, trend, seasonal and random components.\n",
    "fig, axarr = plt.subplots(4, sharex = True)\n",
    "fig.set_size_inches(5.5, 5.5)\n",
    "\n",
    "air_miles['Miles Flown'].plot(ax = axarr[0], color ='b', linestyle = '-')\n",
    "axarr[0].set_title('Monthly air miles')\n",
    "\n",
    "trendcomp.plot(ax = axarr[1], color = 'r', linestyle = '-')\n",
    "axarr[1].set_title('Trend component in monthly air miles')\n",
    "\n",
    "pd.Series(seasonalComp, index = air_miles.index).plot(ax = axarr[2], color ='r', linestyle = '-')\n",
    "axarr[2].set_title('Seasonal component in monthly air miles')\n",
    "\n",
    "pd.Series(data = irr_var, index = air_miles.index).plot(ax = axarr[3], color ='k', linestyle = '-')\n",
    "axarr[3].set_title('Irregular variations in monthly air miles flown')\n",
    "\n",
    "plt.tight_layout(pad = 0.4, w_pad = 0.5, h_pad= 2.0)"
   ]
  },
  {
   "cell_type": "code",
   "execution_count": 12,
   "metadata": {},
   "outputs": [],
   "source": [
    "adf_result = stattools.adfuller(irr_var.loc[~pd.isnull(irr_var)], autolag='AIC')"
   ]
  },
  {
   "cell_type": "code",
   "execution_count": 13,
   "metadata": {},
   "outputs": [
    {
     "name": "stdout",
     "output_type": "stream",
     "text": [
      "p-value of the adf test on the irregular variation in air miles flown:  0.06577411025730101\n"
     ]
    }
   ],
   "source": [
    "print('p-value of the adf test on the irregular variation in air miles flown: ', adf_result[1])"
   ]
  },
  {
   "cell_type": "code",
   "execution_count": null,
   "metadata": {
    "collapsed": true
   },
   "outputs": [],
   "source": []
  }
 ],
 "metadata": {
  "kernelspec": {
   "display_name": "Python 3",
   "language": "python",
   "name": "python3"
  },
  "language_info": {
   "codemirror_mode": {
    "name": "ipython",
    "version": 3
   },
   "file_extension": ".py",
   "mimetype": "text/x-python",
   "name": "python",
   "nbconvert_exporter": "python",
   "pygments_lexer": "ipython3",
   "version": "3.6.6"
  }
 },
 "nbformat": 4,
 "nbformat_minor": 2
}
